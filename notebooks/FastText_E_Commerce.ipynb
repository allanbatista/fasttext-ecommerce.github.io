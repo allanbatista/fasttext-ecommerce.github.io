{
  "nbformat": 4,
  "nbformat_minor": 0,
  "metadata": {
    "colab": {
      "name": "FastText E-Commerce.ipynb",
      "provenance": [],
      "collapsed_sections": [],
      "authorship_tag": "ABX9TyMTDgG8B/gIPyHubiBVtdml",
      "include_colab_link": true
    },
    "kernelspec": {
      "name": "python3",
      "display_name": "Python 3"
    }
  },
  "cells": [
    {
      "cell_type": "markdown",
      "metadata": {
        "id": "view-in-github",
        "colab_type": "text"
      },
      "source": [
        "<a href=\"https://colab.research.google.com/github/allanbatista/fasttext-ecommerce.github.io/blob/gh-pages/notebooks/FastText_E_Commerce.ipynb\" target=\"_parent\"><img src=\"https://colab.research.google.com/assets/colab-badge.svg\" alt=\"Open In Colab\"/></a>"
      ]
    },
    {
      "cell_type": "code",
      "metadata": {
        "id": "2pphpTR7PQrD",
        "colab_type": "code",
        "colab": {
          "base_uri": "https://localhost:8080/",
          "height": 208
        },
        "outputId": "60637b6d-54d0-498d-c631-821db3213b70"
      },
      "source": [
        "!wget https://storage.googleapis.com/black-magic-us-west1/fasttext/2020-07-16T00-00-00/model.bin"
      ],
      "execution_count": 1,
      "outputs": [
        {
          "output_type": "stream",
          "text": [
            "--2020-09-19 12:01:15--  https://storage.googleapis.com/black-magic-us-west1/fasttext/2020-07-16T00-00-00/model.bin\n",
            "Resolving storage.googleapis.com (storage.googleapis.com)... 74.125.126.128, 74.125.70.128, 64.233.191.128, ...\n",
            "Connecting to storage.googleapis.com (storage.googleapis.com)|74.125.126.128|:443... connected.\n",
            "HTTP request sent, awaiting response... 200 OK\n",
            "Length: 7704734077 (7.2G) [application/octet-stream]\n",
            "Saving to: ‘model.bin’\n",
            "\n",
            "model.bin           100%[===================>]   7.17G  30.8MB/s    in 1m 51s  \n",
            "\n",
            "2020-09-19 12:03:07 (65.9 MB/s) - ‘model.bin’ saved [7704734077/7704734077]\n",
            "\n"
          ],
          "name": "stdout"
        }
      ]
    },
    {
      "cell_type": "code",
      "metadata": {
        "id": "o9u7fVUYPU6Q",
        "colab_type": "code",
        "colab": {
          "base_uri": "https://localhost:8080/",
          "height": 52
        },
        "outputId": "2b3c2036-bfe1-43c4-975b-2cdb073428c1"
      },
      "source": [
        "!pip install fasttext --quiet"
      ],
      "execution_count": 2,
      "outputs": [
        {
          "output_type": "stream",
          "text": [
            "\u001b[?25l\r\u001b[K     |████▊                           | 10kB 13.8MB/s eta 0:00:01\r\u001b[K     |█████████▌                      | 20kB 2.1MB/s eta 0:00:01\r\u001b[K     |██████████████▎                 | 30kB 2.9MB/s eta 0:00:01\r\u001b[K     |███████████████████             | 40kB 3.1MB/s eta 0:00:01\r\u001b[K     |███████████████████████▉        | 51kB 2.4MB/s eta 0:00:01\r\u001b[K     |████████████████████████████▋   | 61kB 2.7MB/s eta 0:00:01\r\u001b[K     |████████████████████████████████| 71kB 2.1MB/s \n",
            "\u001b[?25h  Building wheel for fasttext (setup.py) ... \u001b[?25l\u001b[?25hdone\n"
          ],
          "name": "stdout"
        }
      ]
    },
    {
      "cell_type": "code",
      "metadata": {
        "id": "q9_aBKGTPYVK",
        "colab_type": "code",
        "colab": {
          "base_uri": "https://localhost:8080/",
          "height": 34
        },
        "outputId": "3010bb63-45fb-414a-d7f4-ac33b5ce4dd8"
      },
      "source": [
        "import fasttext\n",
        "\n",
        "ft = fasttext.load_model('model.bin')"
      ],
      "execution_count": 3,
      "outputs": [
        {
          "output_type": "stream",
          "text": [
            "Warning : `load_model` does not return WordVectorModel or SupervisedModel any more, but a `FastText` object which is very similar.\n"
          ],
          "name": "stderr"
        }
      ]
    },
    {
      "cell_type": "code",
      "metadata": {
        "id": "UnA63BwzPhGx",
        "colab_type": "code",
        "colab": {}
      },
      "source": [
        "import re\n",
        "import numpy as np\n",
        " \n",
        "re_html = re.compile(r\"<[^>]*>\")\n",
        "re_especial = re.compile(r'^[\\-\\.\\,]+|\\s[\\-\\.\\,]+|[\\-\\.\\,]+\\s|[\\-\\.\\,]+$')\n",
        "re_chars = re.compile(r'[^a-z0-9àáâãçéêíóôõúü+\\-\\\"\\s\\.\\,]')\n",
        "re_lines = re.compile(r'\\n')\n",
        "re_spaces = re.compile(r'\\s+')\n",
        " \n",
        "tokens_norm = dict(\n",
        "   zip(\n",
        "       'æ,œ,á,è,ì,ò,ù,ä,ë,ï,ö,ü,ÿ,â,ê,î,ô,û,å,ø,Ø,ñ'.split(\",\"),\n",
        "       'ae,oe,a,e,i,o,u,a,e,i,o,u,y,a,e,i,o,u,a,o,O,n'.split(\",\")\n",
        "   )\n",
        ")\n",
        " \n",
        " \n",
        "def _accent2latin(text):\n",
        "   result = []\n",
        " \n",
        "   for char in text.lower():\n",
        "       newchar = tokens_norm.get(char)\n",
        " \n",
        "       if newchar:\n",
        "           result.append(newchar)\n",
        "       else:\n",
        "           result.append(char)\n",
        " \n",
        "   return \"\".join(result)\n",
        " \n",
        " \n",
        "def clear(text):\n",
        "   text = str(text).lower()\n",
        "   text = _accent2latin(text)\n",
        "   text = re_html.sub(' ', text)\n",
        "   text = re_chars.sub(' ', text)\n",
        "   text = re_lines.sub(' ', text)\n",
        "   text = re_especial.sub(' ', text)\n",
        "   text = re_spaces.sub(' ', text)\n",
        "   return text.strip()\n",
        "\n",
        "def text_to_vector(text):\n",
        "    return np.array([ft.get_word_vector(word) for word in clear(text).split(\" \")])"
      ],
      "execution_count": 7,
      "outputs": []
    },
    {
      "cell_type": "code",
      "metadata": {
        "id": "4080puWIPkpO",
        "colab_type": "code",
        "colab": {
          "base_uri": "https://localhost:8080/",
          "height": 34
        },
        "outputId": "790e0d2b-f998-4738-acc1-634aa2df3c54"
      },
      "source": [
        "sequence = text_to_vector('Smartphone - Samsung Galaxy / S10e 128GB - Dual Chip, Android 9.0 Tela 5,8\" | Octa-Core 4G, Câmera, 12MP + 16MP, - Preto')\n",
        "sequence.shape"
      ],
      "execution_count": 9,
      "outputs": [
        {
          "output_type": "execute_result",
          "data": {
            "text/plain": [
              "(18, 128)"
            ]
          },
          "metadata": {
            "tags": []
          },
          "execution_count": 9
        }
      ]
    },
    {
      "cell_type": "code",
      "metadata": {
        "id": "Jxc8mzbkZ-Bt",
        "colab_type": "code",
        "colab": {
          "base_uri": "https://localhost:8080/",
          "height": 243
        },
        "outputId": "823b7502-e42a-4387-cf7a-8d8dc1a4f981"
      },
      "source": [
        "sequence"
      ],
      "execution_count": 10,
      "outputs": [
        {
          "output_type": "execute_result",
          "data": {
            "text/plain": [
              "array([[ 4.3844166e-01, -4.7509857e-02,  9.6057311e-02, ...,\n",
              "         4.0147254e-01,  5.7129258e-01,  5.1002932e-01],\n",
              "       [ 4.6748745e-01,  1.4027068e-01,  8.6354554e-01, ...,\n",
              "         6.4235687e-01, -1.6558748e-01,  6.7117769e-01],\n",
              "       [ 3.6011356e-01,  2.7058411e-01,  1.0783412e-01, ...,\n",
              "         1.1131119e+00,  3.9792199e-02,  3.4689578e-01],\n",
              "       ...,\n",
              "       [ 8.3547008e-01,  2.8060443e+00,  2.2126739e+00, ...,\n",
              "         1.6515121e+00, -4.4876766e+00,  1.0340667e+00],\n",
              "       [ 7.0913267e-01, -7.6971769e-01,  2.6940376e-01, ...,\n",
              "        -7.8384399e-02,  4.7494173e-01,  6.9902754e-01],\n",
              "       [ 1.5348157e-01, -9.4336078e-02,  3.4438714e-01, ...,\n",
              "         2.7751854e-01, -3.7175959e-03,  3.1282184e-01]], dtype=float32)"
            ]
          },
          "metadata": {
            "tags": []
          },
          "execution_count": 10
        }
      ]
    },
    {
      "cell_type": "code",
      "metadata": {
        "id": "xl98iPC4aCKQ",
        "colab_type": "code",
        "colab": {}
      },
      "source": [
        ""
      ],
      "execution_count": null,
      "outputs": []
    }
  ]
}